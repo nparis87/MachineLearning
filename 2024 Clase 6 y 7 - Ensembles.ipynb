{
 "cells": [
  {
   "cell_type": "code",
   "execution_count": 39,
   "id": "bd090819-c4f1-4f77-af17-003b716393bc",
   "metadata": {},
   "outputs": [],
   "source": [
    "from sklearn.ensemble import AdaBoostClassifier, GradientBoostingClassifier\n",
    "from sklearn.datasets import make_classification\n",
    "from sklearn.model_selection import train_test_split, cross_val_score\n",
    "from sklearn.metrics import accuracy_score, recall_score, make_scorer"
   ]
  },
  {
   "cell_type": "code",
   "execution_count": 54,
   "id": "0789eb13-1dc2-4868-87e5-54b88314c153",
   "metadata": {},
   "outputs": [],
   "source": [
    "# Generate synthetic multiclass data\n",
    "X, y = make_classification(n_samples=5000, n_features=10, n_classes=3, random_state=42, n_informative=3)"
   ]
  },
  {
   "cell_type": "code",
   "execution_count": 55,
   "id": "9cf1c2dd-e899-454c-9ec0-77f249542005",
   "metadata": {},
   "outputs": [],
   "source": [
    "# Initialize AdaBoost classifier\n",
    "adaboost_clf = AdaBoostClassifier(n_estimators=50, random_state=42)"
   ]
  },
  {
   "cell_type": "markdown",
   "id": "61f1774f-6069-468b-8e49-eedddeeb09f3",
   "metadata": {},
   "source": [
    "### With cross validation we can have a glance at the variance of the model"
   ]
  },
  {
   "cell_type": "markdown",
   "id": "c76fe12b-4a52-4996-b00e-b6e246b39ecf",
   "metadata": {},
   "source": [
    "#### Make some notes here if you want"
   ]
  },
  {
   "cell_type": "code",
   "execution_count": 56,
   "id": "b56f49f3-1bfa-4eda-9716-296abde4bb8a",
   "metadata": {},
   "outputs": [],
   "source": [
    "# Perform cross-validation\n",
    "cv_scores = cross_val_score(adaboost_clf, X, y, cv=10)"
   ]
  },
  {
   "cell_type": "code",
   "execution_count": 57,
   "id": "d62b5fa3-fe73-404a-a5ca-1045122e6a40",
   "metadata": {},
   "outputs": [
    {
     "name": "stdout",
     "output_type": "stream",
     "text": [
      "Cross-Validation Scores: [0.68  0.664 0.656 0.622 0.658 0.65  0.63  0.688 0.626 0.656]\n",
      "Mean CV Accuracy: 0.653\n",
      "Desv CV Accuracy: 0.020847062143141415\n"
     ]
    }
   ],
   "source": [
    "# Print cross-validation scores\n",
    "print(\"Cross-Validation Scores:\", cv_scores)\n",
    "print(\"Mean CV Accuracy:\", cv_scores.mean())\n",
    "print(\"Desv CV Accuracy:\", cv_scores.std())"
   ]
  },
  {
   "cell_type": "markdown",
   "id": "4a79ff34-61fe-4feb-9bf3-fd34fec362d3",
   "metadata": {},
   "source": [
    "#### Make some notes here if you want"
   ]
  },
  {
   "cell_type": "code",
   "execution_count": 60,
   "id": "28e4b21b-8fbb-4f3c-b888-1042bda08620",
   "metadata": {},
   "outputs": [],
   "source": [
    "gradient_boost_clf = GradientBoostingClassifier(n_estimators=50, learning_rate=0.1, random_state=42)"
   ]
  },
  {
   "cell_type": "code",
   "execution_count": 61,
   "id": "0a6f2d85-ebae-40f7-884e-e93b789b8f3c",
   "metadata": {},
   "outputs": [
    {
     "name": "stdout",
     "output_type": "stream",
     "text": [
      "Cross-Validation Scores: [0.844 0.834 0.842 0.81  0.804 0.82  0.836 0.862 0.84  0.822]\n",
      "Mean CV Accuracy: 0.8314\n",
      "Desv CV Accuracy: 0.016542067585401752\n"
     ]
    }
   ],
   "source": [
    "cv_scores = cross_val_score(gradient_boost_clf, X, y, cv=10)\n",
    "print(\"Cross-Validation Scores:\", cv_scores)\n",
    "print(\"Mean CV Accuracy:\", cv_scores.mean())\n",
    "print(\"Desv CV Accuracy:\", cv_scores.std())"
   ]
  },
  {
   "cell_type": "markdown",
   "id": "c0511c99-822e-4c1d-be0f-954e954f4d96",
   "metadata": {},
   "source": [
    "## Workshop"
   ]
  },
  {
   "cell_type": "markdown",
   "id": "42ae9c6d-e78b-4ad1-a225-f5831bb3ca42",
   "metadata": {},
   "source": [
    "### Choose one of the previous models studied in the course, KNN, Tree, Random Forest, apply them to this dataset and compare performance using Cross Validation"
   ]
  },
  {
   "cell_type": "markdown",
   "id": "1ce24fe1-a746-49b1-8282-595eae9251fe",
   "metadata": {},
   "source": [
    "## Workshop for next week"
   ]
  },
  {
   "cell_type": "markdown",
   "id": "b882e0ee-ac5e-4e83-9800-bc9422a3c6d7",
   "metadata": {},
   "source": [
    "### Apply the new ensemble models (Random Forest, AdaBoost and Gradient Boost), and the cross validation technique to the consumer spending score dataset and provide analysis on the results"
   ]
  },
  {
   "cell_type": "code",
   "execution_count": null,
   "id": "4963432d-868c-426b-8cbe-cca8bd6b2e7b",
   "metadata": {},
   "outputs": [],
   "source": []
  }
 ],
 "metadata": {
  "kernelspec": {
   "display_name": "Python 3",
   "language": "python",
   "name": "python3"
  },
  "language_info": {
   "codemirror_mode": {
    "name": "ipython",
    "version": 3
   },
   "file_extension": ".py",
   "mimetype": "text/x-python",
   "name": "python",
   "nbconvert_exporter": "python",
   "pygments_lexer": "ipython3",
   "version": "3.8.8"
  }
 },
 "nbformat": 4,
 "nbformat_minor": 5
}
