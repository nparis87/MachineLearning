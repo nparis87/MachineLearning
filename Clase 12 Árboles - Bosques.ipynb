{
 "cells": [
  {
   "cell_type": "markdown",
   "id": "899e94d9-f5e6-412b-901d-8467180d1574",
   "metadata": {
    "tags": []
   },
   "source": []
  },
  {
   "cell_type": "code",
   "execution_count": 1,
   "id": "5435c837",
   "metadata": {
    "tags": []
   },
   "outputs": [],
   "source": [
    "import pandas as pd\n",
    "import numpy as np\n",
    "from sklearn.linear_model import LogisticRegression\n",
    "from sklearn.model_selection import train_test_split\n",
    "from sklearn.neighbors import KNeighborsClassifier\n",
    "from sklearn.tree import DecisionTreeClassifier\n",
    "from sklearn.impute import SimpleImputer, KNNImputer\n",
    "from sklearn.preprocessing import OneHotEncoder, OrdinalEncoder, MinMaxScaler, MaxAbsScaler, LabelEncoder, StandardScaler\n",
    "from sklearn.metrics import classification_report, plot_confusion_matrix\n",
    "from sklearn.pipeline import Pipeline\n",
    "from sklearn.tree import plot_tree"
   ]
  },
  {
   "cell_type": "code",
   "execution_count": 3,
   "id": "cc4727c7-7412-4dc5-843b-5119ea5f7639",
   "metadata": {},
   "outputs": [
    {
     "name": "stdout",
     "output_type": "stream",
     "text": [
      "0 Low\n",
      "1 Average\n",
      "2 High\n"
     ]
    },
    {
     "name": "stderr",
     "output_type": "stream",
     "text": [
      "C:\\ProgramData\\Anaconda3\\lib\\site-packages\\sklearn\\utils\\validation.py:63: DataConversionWarning: A column-vector y was passed when a 1d array was expected. Please change the shape of y to (n_samples, ), for example using ravel().\n",
      "  return f(*args, **kwargs)\n"
     ]
    }
   ],
   "source": [
    "source = 'https://raw.githubusercontent.com/nparis87/MachineLearning/main/Complete.csv'\n",
    "\n",
    "data = pd.read_csv(source, sep=';')\n",
    "\n",
    "\n",
    "data.drop(['Set'], axis = 1, inplace = True)\n",
    "\n",
    "## Haciendo una conversión de variables ordinales manualmente y personalizada\n",
    "\n",
    "label = list(data['Spending_Score'].unique()) # se crea una lista con las etiquetas\n",
    "num = [1,2,3] # lista de valores numéricos para cada etiqueta\n",
    "mapping = {}  # diccionario de equivalencia entre listas\n",
    "\n",
    "for x,y in enumerate(label):\n",
    "    print(x, y)\n",
    "    mapping[y] = num[x]\n",
    "\n",
    "X = data.drop(['Spending_Score', 'ID'], axis = 1)\n",
    "Y = data[['Spending_Score']]\n",
    "    \n",
    "Y = LabelEncoder().fit_transform(Y)\n",
    "\n",
    "tareas = [('imputer', SimpleImputer(strategy='most_frequent')), \n",
    "              ('encoder', OrdinalEncoder())]\n",
    "                            \n",
    "pipe = Pipeline(tareas)\n",
    "X2 = pipe.fit_transform(X)\n"
   ]
  },
  {
   "cell_type": "code",
   "execution_count": 21,
   "id": "5875c782-e9ec-4180-ba26-c6610d885935",
   "metadata": {},
   "outputs": [
    {
     "data": {
      "text/html": [
       "<div>\n",
       "<style scoped>\n",
       "    .dataframe tbody tr th:only-of-type {\n",
       "        vertical-align: middle;\n",
       "    }\n",
       "\n",
       "    .dataframe tbody tr th {\n",
       "        vertical-align: top;\n",
       "    }\n",
       "\n",
       "    .dataframe thead th {\n",
       "        text-align: right;\n",
       "    }\n",
       "</style>\n",
       "<table border=\"1\" class=\"dataframe\">\n",
       "  <thead>\n",
       "    <tr style=\"text-align: right;\">\n",
       "      <th></th>\n",
       "      <th>Gender</th>\n",
       "      <th>Ever_Married</th>\n",
       "      <th>Age</th>\n",
       "      <th>Graduated</th>\n",
       "      <th>Profession</th>\n",
       "      <th>Work_Experience</th>\n",
       "      <th>Family_Size</th>\n",
       "    </tr>\n",
       "  </thead>\n",
       "  <tbody>\n",
       "    <tr>\n",
       "      <th>0</th>\n",
       "      <td>1.0</td>\n",
       "      <td>0.0</td>\n",
       "      <td>4.0</td>\n",
       "      <td>0.0</td>\n",
       "      <td>5.0</td>\n",
       "      <td>1.0</td>\n",
       "      <td>3.0</td>\n",
       "    </tr>\n",
       "    <tr>\n",
       "      <th>1</th>\n",
       "      <td>0.0</td>\n",
       "      <td>1.0</td>\n",
       "      <td>18.0</td>\n",
       "      <td>1.0</td>\n",
       "      <td>2.0</td>\n",
       "      <td>1.0</td>\n",
       "      <td>2.0</td>\n",
       "    </tr>\n",
       "    <tr>\n",
       "      <th>2</th>\n",
       "      <td>0.0</td>\n",
       "      <td>1.0</td>\n",
       "      <td>44.0</td>\n",
       "      <td>1.0</td>\n",
       "      <td>2.0</td>\n",
       "      <td>1.0</td>\n",
       "      <td>0.0</td>\n",
       "    </tr>\n",
       "    <tr>\n",
       "      <th>3</th>\n",
       "      <td>1.0</td>\n",
       "      <td>1.0</td>\n",
       "      <td>44.0</td>\n",
       "      <td>1.0</td>\n",
       "      <td>7.0</td>\n",
       "      <td>0.0</td>\n",
       "      <td>1.0</td>\n",
       "    </tr>\n",
       "    <tr>\n",
       "      <th>4</th>\n",
       "      <td>0.0</td>\n",
       "      <td>1.0</td>\n",
       "      <td>20.0</td>\n",
       "      <td>1.0</td>\n",
       "      <td>3.0</td>\n",
       "      <td>1.0</td>\n",
       "      <td>5.0</td>\n",
       "    </tr>\n",
       "  </tbody>\n",
       "</table>\n",
       "</div>"
      ],
      "text/plain": [
       "   Gender  Ever_Married   Age  Graduated  Profession  Work_Experience  \\\n",
       "0     1.0           0.0   4.0        0.0         5.0              1.0   \n",
       "1     0.0           1.0  18.0        1.0         2.0              1.0   \n",
       "2     0.0           1.0  44.0        1.0         2.0              1.0   \n",
       "3     1.0           1.0  44.0        1.0         7.0              0.0   \n",
       "4     0.0           1.0  20.0        1.0         3.0              1.0   \n",
       "\n",
       "   Family_Size  \n",
       "0          3.0  \n",
       "1          2.0  \n",
       "2          0.0  \n",
       "3          1.0  \n",
       "4          5.0  "
      ]
     },
     "execution_count": 21,
     "metadata": {},
     "output_type": "execute_result"
    }
   ],
   "source": [
    "Xframe = pd.DataFrame(X2, columns=X.columns)\n",
    "Xframe.head()"
   ]
  },
  {
   "cell_type": "code",
   "execution_count": 35,
   "id": "45607ea1-e614-45a4-a994-fb9682b5edb7",
   "metadata": {},
   "outputs": [],
   "source": [
    "from sklearn.ensemble import RandomForestClassifier\n",
    "from sklearn.model_selection import cross_validate, cross_val_score \n",
    "\n",
    "clf = RandomForestClassifier(max_depth=3, random_state=0)"
   ]
  },
  {
   "cell_type": "markdown",
   "id": "44812dba-36eb-496b-8e30-c805dae2a25b",
   "metadata": {},
   "source": [
    "###Trabajo en clase\n",
    "\n",
    "Comparar la validación cruzada de un modelo simple de árbol con la de un Random Forest"
   ]
  },
  {
   "cell_type": "code",
   "execution_count": null,
   "id": "57ebe80a-48a3-4a59-b5a0-315865011a1a",
   "metadata": {},
   "outputs": [],
   "source": [
    "vc_resultado = cross_validate(tree, X2, Y, cv=5, scoring=('accuracy'), return_train_score=True)\n",
    "vc_resultado['test_score']"
   ]
  }
 ],
 "metadata": {
  "kernelspec": {
   "display_name": "Python 3",
   "language": "python",
   "name": "python3"
  },
  "language_info": {
   "codemirror_mode": {
    "name": "ipython",
    "version": 3
   },
   "file_extension": ".py",
   "mimetype": "text/x-python",
   "name": "python",
   "nbconvert_exporter": "python",
   "pygments_lexer": "ipython3",
   "version": "3.8.8"
  }
 },
 "nbformat": 4,
 "nbformat_minor": 5
}
