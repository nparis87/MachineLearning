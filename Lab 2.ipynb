{
 "cells": [
  {
   "cell_type": "markdown",
   "id": "ff1604d2-e541-4890-bd19-3c8cd202b9de",
   "metadata": {},
   "source": [
    "## Laboratorio 3"
   ]
  },
  {
   "cell_type": "markdown",
   "id": "20b99d80-09eb-4a87-babe-558da11885b6",
   "metadata": {},
   "source": [
    "### A partir de la información brindada, el área de estrategia de inversiones desea desarrollar un modelo que dé señales de compra semanal que resulten en altos niveles de efectividad.\n",
    "\n",
    "1. Evalúe el modelo de clasificación que mejores señales de compra le da a los inversionistas en el ETF cuyo precio encuentra en la base de datos.\n",
    "    \n",
    "    a. Analice el comportamiento de las clasificaciones de los modelos incluidos en las listas provistas.\n",
    "\n",
    "    b. En la evaluación incluya la prueba de varios parámetros como cambiar el número de semanas de rezago en los retornos,          probar el uso de precios en vez de retornos y el cambio de alguno de los parámetros de los modelos. Ej Número de              vecinos en KNN, cálculo de número de niveles en un arbol de clasificación, número de árboles en un random forest, entre        otros. Entre todas las pruebas debe evaluar al menos 6 combinaciones de parámetros/modelos. Un ejemplo de combinaciones        sería:\n",
    "\n",
    "        i.      KNN, con 5 vecinos, utilizando precios con 10 columnas de precios semanales\n",
    "        \n",
    "\n",
    "2. Si su objetivo es tomar decisiones de inversión para la próxima semana elija un modelo y justifique por qué. En últimas el modelo que debe elegir es el que tiene un mayor porcentaje de éxito tomando decisiones de inversión. Recuerde que si la precisión de la clasificación 1 es 50% quiere decir que la mitad de las señales de compra son falsas y la mitad son correctas. Si el recall es 50% quiere decir que el modelo va a identificar la mitad de las buenas oportunidades de compra y nos va a hacer perder la otra mitad. Recuerde jugar con la ventana de tiempo y con el umbral.\n",
    "\n",
    "       a. Analice los resultados y justiique su elección\n",
    "       b. Este ejercicio se hizo con un activo XLF, un ETF de acciones financieras. Si cambiamos el set de datos por el XLK,             de acciones tecnológicas, ¿el modelo seguiría teniendo los mismos buenos resultados? Convierta los datos con XLK en           datos de prueba x_test y y_test. "
   ]
  },
  {
   "cell_type": "markdown",
   "id": "27ac834f-4b8b-4c34-8195-20d2a5b9f21a",
   "metadata": {},
   "source": [
    "### Entregue este laboratorio a través del Aula Virtual en formato PDF o HTML.\n",
    "Asegúrese de que el archivo entregado se pueda abrir bien. En el caso de archivos HTML haga la prueba de abrirlo en algún navegador."
   ]
  },
  {
   "cell_type": "code",
   "execution_count": 1,
   "id": "9067fed3-8860-4d18-86ee-950fb10c2045",
   "metadata": {
    "tags": []
   },
   "outputs": [],
   "source": [
    "#!pip install yfinance\n",
    "import yfinance as yf\n",
    "precios = yf.Ticker('XLF').history(period=\"10y\", interval='1wk')"
   ]
  },
  {
   "cell_type": "code",
   "execution_count": 2,
   "id": "158bf6a1-1087-435d-b128-65e1266c11a1",
   "metadata": {
    "tags": []
   },
   "outputs": [],
   "source": [
    "from sklearn.neighbors import KNeighborsClassifier\n",
    "from sklearn.tree import DecisionTreeClassifier\n",
    "from sklearn.ensemble import RandomForestClassifier\n",
    "import pandas as pd\n",
    "import numpy as np\n",
    "from sklearn.svm import SVC"
   ]
  },
  {
   "cell_type": "code",
   "execution_count": 3,
   "id": "c8268bed-d2ed-42eb-9262-abb2d9e39c84",
   "metadata": {},
   "outputs": [],
   "source": [
    "precios = precios.Close"
   ]
  },
  {
   "cell_type": "code",
   "execution_count": 4,
   "id": "4e105698-53b8-4210-9606-964d2205a3d6",
   "metadata": {},
   "outputs": [
    {
     "data": {
      "text/plain": [
       "Date\n",
       "2013-04-08    12.386904\n",
       "2013-04-15    12.125347\n",
       "2013-04-22    12.453965\n",
       "2013-04-29    12.641748\n",
       "2013-05-06    12.910008\n",
       "2013-05-13    13.379461\n",
       "2013-05-20    13.231919\n",
       "2013-05-27    13.305693\n",
       "2013-06-03    13.392876\n",
       "2013-06-10    13.111203\n",
       "Name: Close, dtype: float64"
      ]
     },
     "execution_count": 4,
     "metadata": {},
     "output_type": "execute_result"
    }
   ],
   "source": [
    "precios.head(10)"
   ]
  },
  {
   "cell_type": "code",
   "execution_count": 5,
   "id": "f7e18e9b-d55a-4ac4-a629-606c335124c2",
   "metadata": {},
   "outputs": [],
   "source": [
    "retornos = np.log(precios).diff()[1:].dropna()\n",
    "mat_retornos = retornos.values"
   ]
  },
  {
   "cell_type": "markdown",
   "id": "c28e1b9e-83f3-42cc-88ec-d63e4abfe3c6",
   "metadata": {},
   "source": [
    "## Ahora creamos unas listas con los modelos de clasificación que queremos incluir dentro de la función"
   ]
  },
  {
   "cell_type": "code",
   "execution_count": null,
   "id": "be0d87f1-b927-4788-81e6-af555ef00ec4",
   "metadata": {},
   "outputs": [],
   "source": [
    "names = [\"Nearest Neighbors\",\n",
    "    \"Linear SVM\",\n",
    "    \"Decision Tree\",\n",
    "    \"Random Forest\",\n",
    "    \"AdaBoost\",\n",
    "    \"Naive Bayes\"]\n",
    "\n",
    "classifiers = [KNeighborsClassifier(3),\n",
    "    SVC(kernel=\"linear\", C=0.025),\n",
    "    DecisionTreeClassifier(max_depth=5),\n",
    "    RandomForestClassifier(max_depth=5, n_estimators=50, max_features=1),\n",
    "    AdaBoostClassifier(),\n",
    "    GaussianNB()]"
   ]
  },
  {
   "cell_type": "markdown",
   "id": "edefdac5-7b95-4ef3-b700-9ccec2c3b615",
   "metadata": {},
   "source": [
    "## Esta es una función para ejecutar el modelo, adapte la función para que evalúe todos los modelos incluidos en la lista anterior. Asegúrese de importar las librerías correspondientes a todos los modelos"
   ]
  },
  {
   "cell_type": "code",
   "execution_count": 121,
   "id": "0c2ac32a-ba0e-43c1-8858-5086c1daec70",
   "metadata": {},
   "outputs": [],
   "source": [
    "def prueba_modelo(per, umbral, h):        \n",
    "        \n",
    "        per = 40 # ventana de tiempo - Columnas\n",
    "        muestras = len(mat_retornos) - per\n",
    "\n",
    "        variables = np.zeros((1,per))\n",
    "        l = len(mat_retornos)\n",
    "\n",
    "        for x in range(muestras):\n",
    "            variables = np.concatenate((variables, mat_retornos[l-per-x: l-x].reshape((1,per))))\n",
    "\n",
    "        variables = variables[1:]\n",
    "\n",
    "        X = variables[:,:-1]\n",
    "        Y = variables[:,-1]*100\n",
    "\n",
    "        umbral = 2  # los retornos porcentuales en una semana determinada los vamos a clasificar como \"bajo, neutral o alto\"\n",
    "                    # esto dependiendo del umbral que inicialmente vamos a establecerlo en 2%\n",
    "            \n",
    "        neutral = [not x for x in ((Y>umbral)|(Y<-umbral))]\n",
    "        \n",
    "        # Aquí vamos a modificar Y para clasificar los retornos -1 = bajo, 0 = neutral y 1 = alto\n",
    "        # La idea es que el modelo logre clasificar efectivamente los retornos altos.\n",
    "        \n",
    "        Y[Y>umbral] = 1\n",
    "        Y[Y<-umbral] = -1\n",
    "        Y[neutral] = 0\n",
    "\n",
    "        i_entrenamiento = int(len(variables)*0.7) #la fila hasta donde va el entrenamiento y donde comienza el conjunto de prueba\n",
    "        \n",
    "        # fíjese que el entrenamiento se hará utilizando datos hasta una fecha X, de ahí en adelante, probaremos el modelo\n",
    "        # hacia adelante en el tiempo con lo que será el conjunto de prueba\n",
    "        \n",
    "        x_train = X[:i_entrenamiento, :]\n",
    "        x_test =  X[i_entrenamiento:, :]\n",
    "        y_train = Y[:i_entrenamiento]\n",
    "        y_test =  Y[i_entrenamiento:]\n",
    "\n",
    "        modelo = DecisionTreeClassifier(max_depth=h).fit(x_train, y_train)\n",
    "\n",
    "        pred = modelo.predict(x_test)\n",
    "    \n",
    "        return pred"
   ]
  },
  {
   "cell_type": "code",
   "execution_count": null,
   "id": "1e5fefc5-b257-4ae9-b53e-9285432b0200",
   "metadata": {},
   "outputs": [],
   "source": []
  },
  {
   "cell_type": "code",
   "execution_count": 6,
   "id": "671d3f26-7565-43bb-8812-1525a38acd11",
   "metadata": {},
   "outputs": [],
   "source": [
    "n_columnas = [5, 10, 15, 20, 25, 30]\n",
    "umbral = [1,2,3,4]"
   ]
  },
  {
   "cell_type": "code",
   "execution_count": null,
   "id": "621e6979-a1a0-4089-ab3f-361d85a9b529",
   "metadata": {},
   "outputs": [],
   "source": []
  }
 ],
 "metadata": {
  "kernelspec": {
   "display_name": "Python 3",
   "language": "python",
   "name": "python3"
  },
  "language_info": {
   "codemirror_mode": {
    "name": "ipython",
    "version": 3
   },
   "file_extension": ".py",
   "mimetype": "text/x-python",
   "name": "python",
   "nbconvert_exporter": "python",
   "pygments_lexer": "ipython3",
   "version": "3.8.8"
  }
 },
 "nbformat": 4,
 "nbformat_minor": 5
}
