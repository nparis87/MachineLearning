{
 "cells": [
  {
   "cell_type": "markdown",
   "id": "9cb88321-f126-46b7-bc12-f0db0b8ab5b6",
   "metadata": {},
   "source": [
    "## Aprendizaje supervisado\n",
    "### Regresión lineal y Logística"
   ]
  },
  {
   "cell_type": "markdown",
   "id": "899e94d9-f5e6-412b-901d-8467180d1574",
   "metadata": {},
   "source": [
    "## https://archive.ics.uci.edu/ml/datasets/statlog+(german+credit+data)"
   ]
  },
  {
   "cell_type": "code",
   "execution_count": 11,
   "id": "5435c837",
   "metadata": {},
   "outputs": [],
   "source": [
    "import pandas as pd\n",
    "import numpy as np\n",
    "from sklearn.linear_model import LogisticRegression\n",
    "from sklearn.neighbors import KNeighborsClassifier\n",
    "from sklearn.preprocessing import StandardScaler\n",
    "from sklearn.metrics import classification_report, plot_confusion_matrix, accuracy_score, precision_score, recall_score"
   ]
  },
  {
   "cell_type": "code",
   "execution_count": 2,
   "id": "5745a452",
   "metadata": {},
   "outputs": [
    {
     "data": {
      "text/html": [
       "<div>\n",
       "<style scoped>\n",
       "    .dataframe tbody tr th:only-of-type {\n",
       "        vertical-align: middle;\n",
       "    }\n",
       "\n",
       "    .dataframe tbody tr th {\n",
       "        vertical-align: top;\n",
       "    }\n",
       "\n",
       "    .dataframe thead th {\n",
       "        text-align: right;\n",
       "    }\n",
       "</style>\n",
       "<table border=\"1\" class=\"dataframe\">\n",
       "  <thead>\n",
       "    <tr style=\"text-align: right;\">\n",
       "      <th></th>\n",
       "      <th>Column1</th>\n",
       "      <th>Column2</th>\n",
       "      <th>Column3</th>\n",
       "      <th>Column4</th>\n",
       "      <th>Column5</th>\n",
       "      <th>Column6</th>\n",
       "      <th>Column7</th>\n",
       "      <th>Column8</th>\n",
       "      <th>Column9</th>\n",
       "      <th>Column10</th>\n",
       "      <th>...</th>\n",
       "      <th>Column12</th>\n",
       "      <th>Column13</th>\n",
       "      <th>Column14</th>\n",
       "      <th>Column15</th>\n",
       "      <th>Column16</th>\n",
       "      <th>Column17</th>\n",
       "      <th>Column18</th>\n",
       "      <th>Column19</th>\n",
       "      <th>Column20</th>\n",
       "      <th>Column21</th>\n",
       "    </tr>\n",
       "  </thead>\n",
       "  <tbody>\n",
       "    <tr>\n",
       "      <th>0</th>\n",
       "      <td>11</td>\n",
       "      <td>6</td>\n",
       "      <td>34</td>\n",
       "      <td>43</td>\n",
       "      <td>1169</td>\n",
       "      <td>65</td>\n",
       "      <td>75</td>\n",
       "      <td>4</td>\n",
       "      <td>93</td>\n",
       "      <td>101</td>\n",
       "      <td>...</td>\n",
       "      <td>121</td>\n",
       "      <td>67</td>\n",
       "      <td>143</td>\n",
       "      <td>152</td>\n",
       "      <td>2</td>\n",
       "      <td>173</td>\n",
       "      <td>1</td>\n",
       "      <td>192</td>\n",
       "      <td>201</td>\n",
       "      <td>0</td>\n",
       "    </tr>\n",
       "    <tr>\n",
       "      <th>1</th>\n",
       "      <td>12</td>\n",
       "      <td>48</td>\n",
       "      <td>32</td>\n",
       "      <td>43</td>\n",
       "      <td>5951</td>\n",
       "      <td>61</td>\n",
       "      <td>73</td>\n",
       "      <td>2</td>\n",
       "      <td>92</td>\n",
       "      <td>101</td>\n",
       "      <td>...</td>\n",
       "      <td>121</td>\n",
       "      <td>22</td>\n",
       "      <td>143</td>\n",
       "      <td>152</td>\n",
       "      <td>1</td>\n",
       "      <td>173</td>\n",
       "      <td>1</td>\n",
       "      <td>191</td>\n",
       "      <td>201</td>\n",
       "      <td>1</td>\n",
       "    </tr>\n",
       "    <tr>\n",
       "      <th>2</th>\n",
       "      <td>14</td>\n",
       "      <td>12</td>\n",
       "      <td>34</td>\n",
       "      <td>46</td>\n",
       "      <td>2096</td>\n",
       "      <td>61</td>\n",
       "      <td>74</td>\n",
       "      <td>2</td>\n",
       "      <td>93</td>\n",
       "      <td>101</td>\n",
       "      <td>...</td>\n",
       "      <td>121</td>\n",
       "      <td>49</td>\n",
       "      <td>143</td>\n",
       "      <td>152</td>\n",
       "      <td>1</td>\n",
       "      <td>172</td>\n",
       "      <td>2</td>\n",
       "      <td>191</td>\n",
       "      <td>201</td>\n",
       "      <td>0</td>\n",
       "    </tr>\n",
       "    <tr>\n",
       "      <th>3</th>\n",
       "      <td>11</td>\n",
       "      <td>42</td>\n",
       "      <td>32</td>\n",
       "      <td>42</td>\n",
       "      <td>7882</td>\n",
       "      <td>61</td>\n",
       "      <td>74</td>\n",
       "      <td>2</td>\n",
       "      <td>93</td>\n",
       "      <td>103</td>\n",
       "      <td>...</td>\n",
       "      <td>122</td>\n",
       "      <td>45</td>\n",
       "      <td>143</td>\n",
       "      <td>153</td>\n",
       "      <td>1</td>\n",
       "      <td>173</td>\n",
       "      <td>2</td>\n",
       "      <td>191</td>\n",
       "      <td>201</td>\n",
       "      <td>0</td>\n",
       "    </tr>\n",
       "    <tr>\n",
       "      <th>4</th>\n",
       "      <td>11</td>\n",
       "      <td>24</td>\n",
       "      <td>33</td>\n",
       "      <td>40</td>\n",
       "      <td>4870</td>\n",
       "      <td>61</td>\n",
       "      <td>73</td>\n",
       "      <td>3</td>\n",
       "      <td>93</td>\n",
       "      <td>101</td>\n",
       "      <td>...</td>\n",
       "      <td>124</td>\n",
       "      <td>53</td>\n",
       "      <td>143</td>\n",
       "      <td>153</td>\n",
       "      <td>2</td>\n",
       "      <td>173</td>\n",
       "      <td>2</td>\n",
       "      <td>191</td>\n",
       "      <td>201</td>\n",
       "      <td>1</td>\n",
       "    </tr>\n",
       "  </tbody>\n",
       "</table>\n",
       "<p>5 rows × 21 columns</p>\n",
       "</div>"
      ],
      "text/plain": [
       "   Column1  Column2  Column3  Column4  Column5  Column6  Column7  Column8  \\\n",
       "0       11        6       34       43     1169       65       75        4   \n",
       "1       12       48       32       43     5951       61       73        2   \n",
       "2       14       12       34       46     2096       61       74        2   \n",
       "3       11       42       32       42     7882       61       74        2   \n",
       "4       11       24       33       40     4870       61       73        3   \n",
       "\n",
       "   Column9  Column10  ...  Column12  Column13  Column14  Column15  Column16  \\\n",
       "0       93       101  ...       121        67       143       152         2   \n",
       "1       92       101  ...       121        22       143       152         1   \n",
       "2       93       101  ...       121        49       143       152         1   \n",
       "3       93       103  ...       122        45       143       153         1   \n",
       "4       93       101  ...       124        53       143       153         2   \n",
       "\n",
       "   Column17  Column18  Column19  Column20  Column21  \n",
       "0       173         1       192       201         0  \n",
       "1       173         1       191       201         1  \n",
       "2       172         2       191       201         0  \n",
       "3       173         2       191       201         0  \n",
       "4       173         2       191       201         1  \n",
       "\n",
       "[5 rows x 21 columns]"
      ]
     },
     "execution_count": 2,
     "metadata": {},
     "output_type": "execute_result"
    }
   ],
   "source": [
    "source = 'https://raw.githubusercontent.com/nparis87/MachineLearning/main/CreditQuality.csv'\n",
    "\n",
    "data = pd.read_csv(source, sep=';')\n",
    "\n",
    "data.head()"
   ]
  },
  {
   "cell_type": "code",
   "execution_count": 3,
   "id": "c3bb2c59",
   "metadata": {},
   "outputs": [
    {
     "data": {
      "text/plain": [
       "(1000, 21)"
      ]
     },
     "execution_count": 3,
     "metadata": {},
     "output_type": "execute_result"
    }
   ],
   "source": [
    "data.shape"
   ]
  },
  {
   "cell_type": "markdown",
   "id": "e938bded-2f04-4c13-a8c8-c9cce95d040e",
   "metadata": {},
   "source": [
    "## Partiendo los datos"
   ]
  },
  {
   "cell_type": "code",
   "execution_count": 7,
   "id": "6747e0f4",
   "metadata": {},
   "outputs": [],
   "source": [
    "train = data.sample(800)\n",
    "test = data.iloc[np.invert(data.index.isin(train.index))]"
   ]
  },
  {
   "cell_type": "code",
   "execution_count": null,
   "id": "a99656f0-55a6-43e8-85fd-d94b52648578",
   "metadata": {},
   "outputs": [],
   "source": [
    "#### Qué hace falta????"
   ]
  },
  {
   "cell_type": "markdown",
   "id": "7810a19f-bb5e-41f4-a962-7a8f8d4e9f15",
   "metadata": {},
   "source": [
    "## Entrenar el modelo"
   ]
  },
  {
   "cell_type": "code",
   "execution_count": 8,
   "id": "e575ef99-d85a-4d09-900f-e6fe6afcc4d8",
   "metadata": {
    "collapsed": true,
    "jupyter": {
     "outputs_hidden": true
    },
    "tags": []
   },
   "outputs": [
    {
     "ename": "NameError",
     "evalue": "name 'x_train' is not defined",
     "output_type": "error",
     "traceback": [
      "\u001b[1;31m---------------------------------------------------------------------------\u001b[0m",
      "\u001b[1;31mNameError\u001b[0m                                 Traceback (most recent call last)",
      "\u001b[1;32m<ipython-input-8-bb634e8d3eac>\u001b[0m in \u001b[0;36m<module>\u001b[1;34m\u001b[0m\n\u001b[1;32m----> 1\u001b[1;33m \u001b[0mlogist\u001b[0m \u001b[1;33m=\u001b[0m \u001b[0mLogisticRegression\u001b[0m\u001b[1;33m(\u001b[0m\u001b[0mmax_iter\u001b[0m\u001b[1;33m=\u001b[0m\u001b[1;36m500\u001b[0m\u001b[1;33m)\u001b[0m\u001b[1;33m.\u001b[0m\u001b[0mfit\u001b[0m\u001b[1;33m(\u001b[0m\u001b[0mx_train\u001b[0m\u001b[1;33m,\u001b[0m \u001b[0my_train\u001b[0m\u001b[1;33m)\u001b[0m\u001b[1;33m\u001b[0m\u001b[1;33m\u001b[0m\u001b[0m\n\u001b[0m",
      "\u001b[1;31mNameError\u001b[0m: name 'x_train' is not defined"
     ]
    }
   ],
   "source": [
    "logist = LogisticRegression(max_iter=500).fit(x_train, y_train)"
   ]
  },
  {
   "cell_type": "code",
   "execution_count": 80,
   "id": "cdc3cdde-e190-4f72-afaa-be544a94b390",
   "metadata": {},
   "outputs": [],
   "source": [
    "y_pred = logist.predict(x_test_t)"
   ]
  },
  {
   "cell_type": "code",
   "execution_count": null,
   "id": "de4525f7-fb4c-44d9-96eb-37cd3f386c2c",
   "metadata": {},
   "outputs": [],
   "source": [
    "plot_confusion_matrix(logist, x_test, y_test, display_labels=label,values_format='d',cmap='hot')"
   ]
  },
  {
   "cell_type": "code",
   "execution_count": null,
   "id": "b663b123-ce0a-44e6-9072-d77152a0363f",
   "metadata": {},
   "outputs": [],
   "source": [
    "print(classification_report(y_test, y_pred))"
   ]
  },
  {
   "cell_type": "code",
   "execution_count": null,
   "id": "3022db3d-9fd1-4cf9-a853-555c27e192b7",
   "metadata": {},
   "outputs": [],
   "source": []
  },
  {
   "cell_type": "code",
   "execution_count": 85,
   "id": "0d582a47-f511-46c1-be07-e9880ed1c243",
   "metadata": {},
   "outputs": [],
   "source": [
    "#logist.predict_proba(x_test_t)"
   ]
  },
  {
   "cell_type": "markdown",
   "id": "c000fb21-f277-4659-96c2-6a919c3b9a49",
   "metadata": {},
   "source": [
    "### K Nearest Neighbors"
   ]
  },
  {
   "cell_type": "code",
   "execution_count": 14,
   "id": "b819fa2f-55af-4a25-af53-67f82f7a41b2",
   "metadata": {},
   "outputs": [],
   "source": [
    "knn = KNeighborsClassifier(n_neighbors=3)\n",
    "# what's next??\n",
    "# Confusion matrix\n",
    "# Classification report"
   ]
  },
  {
   "cell_type": "markdown",
   "id": "063b4331-6071-4d08-93f5-8ec9eece7f85",
   "metadata": {},
   "source": [
    "## Overfitting test exercise"
   ]
  },
  {
   "cell_type": "code",
   "execution_count": 13,
   "id": "2066ce4e-0fd8-42d8-951f-430602c09790",
   "metadata": {},
   "outputs": [
    {
     "name": "stdout",
     "output_type": "stream",
     "text": [
      "3\n",
      "5\n",
      "7\n",
      "9\n"
     ]
    }
   ],
   "source": [
    "train = []\n",
    "test = []\n",
    "for n in range(3, 11, 2):\n",
    "    knn = KNeighborsClassifier(n_neighbors=n)\n",
    "    knn.fit(x_train, y_train)\n",
    "    \n",
    "    pred_train = knn.predict(x_train)\n",
    "    pred_test = knn.predict(x_test)\n",
    "    \n",
    "    train.append(accuracy_score(y_train, pred_train))\n",
    "    test.append(accuracy_score(y_test, pred_test))"
   ]
  },
  {
   "cell_type": "markdown",
   "id": "2053591a-25e0-4a5c-a083-6ce11a8d5765",
   "metadata": {},
   "source": [
    "## Trabajo en Clase\n",
    "\n",
    "Graph the overfitting test exercise. On the x axis goes the 'n'. On the Y axis graph the scores stored on the lists 'train' and 'test' as two independent series.\n",
    "\n",
    "Normalize data and test classification results in logistic regression. Is there any improvement in classification?\n",
    "\n",
    "Change the decision threshold so that the credit result is more strict in terms of credit allocation. What is the effect on ranking metrics?"
   ]
  },
  {
   "cell_type": "code",
   "execution_count": null,
   "id": "3283b228-6e42-425a-b58c-2840eb2c7943",
   "metadata": {},
   "outputs": [],
   "source": []
  }
 ],
 "metadata": {
  "kernelspec": {
   "display_name": "Python 3",
   "language": "python",
   "name": "python3"
  },
  "language_info": {
   "codemirror_mode": {
    "name": "ipython",
    "version": 3
   },
   "file_extension": ".py",
   "mimetype": "text/x-python",
   "name": "python",
   "nbconvert_exporter": "python",
   "pygments_lexer": "ipython3",
   "version": "3.8.8"
  }
 },
 "nbformat": 4,
 "nbformat_minor": 5
}
