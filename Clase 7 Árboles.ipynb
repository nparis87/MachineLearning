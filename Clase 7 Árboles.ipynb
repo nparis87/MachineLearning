{
 "cells": [
  {
   "cell_type": "markdown",
   "id": "899e94d9-f5e6-412b-901d-8467180d1574",
   "metadata": {
    "tags": []
   },
   "source": []
  },
  {
   "cell_type": "code",
   "execution_count": 58,
   "id": "5435c837",
   "metadata": {
    "tags": []
   },
   "outputs": [],
   "source": [
    "import pandas as pd\n",
    "import numpy as np\n",
    "from sklearn.linear_model import LogisticRegression\n",
    "from sklearn.model_selection import train_test_split\n",
    "from sklearn.neighbors import KNeighborsClassifier\n",
    "from sklearn.tree import DecisionTreeClassifier\n",
    "from sklearn.impute import SimpleImputer, KNNImputer\n",
    "from sklearn.preprocessing import OneHotEncoder, OrdinalEncoder, MinMaxScaler, MaxAbsScaler, LabelEncoder, StandardScaler\n",
    "from sklearn.metrics import classification_report, plot_confusion_matrix\n",
    "from sklearn.pipeline import Pipeline\n",
    "from sklearn.tree import plot_tree"
   ]
  },
  {
   "cell_type": "code",
   "execution_count": 39,
   "id": "5745a452",
   "metadata": {},
   "outputs": [
    {
     "data": {
      "text/html": [
       "<div>\n",
       "<style scoped>\n",
       "    .dataframe tbody tr th:only-of-type {\n",
       "        vertical-align: middle;\n",
       "    }\n",
       "\n",
       "    .dataframe tbody tr th {\n",
       "        vertical-align: top;\n",
       "    }\n",
       "\n",
       "    .dataframe thead th {\n",
       "        text-align: right;\n",
       "    }\n",
       "</style>\n",
       "<table border=\"1\" class=\"dataframe\">\n",
       "  <thead>\n",
       "    <tr style=\"text-align: right;\">\n",
       "      <th></th>\n",
       "      <th>ID</th>\n",
       "      <th>Gender</th>\n",
       "      <th>Ever_Married</th>\n",
       "      <th>Age</th>\n",
       "      <th>Graduated</th>\n",
       "      <th>Profession</th>\n",
       "      <th>Work_Experience</th>\n",
       "      <th>Spending_Score</th>\n",
       "      <th>Family_Size</th>\n",
       "      <th>Set</th>\n",
       "    </tr>\n",
       "  </thead>\n",
       "  <tbody>\n",
       "    <tr>\n",
       "      <th>0</th>\n",
       "      <td>462809</td>\n",
       "      <td>Male</td>\n",
       "      <td>No</td>\n",
       "      <td>22</td>\n",
       "      <td>No</td>\n",
       "      <td>Healthcare</td>\n",
       "      <td>1.0</td>\n",
       "      <td>Low</td>\n",
       "      <td>4.0</td>\n",
       "      <td>Train</td>\n",
       "    </tr>\n",
       "    <tr>\n",
       "      <th>1</th>\n",
       "      <td>462643</td>\n",
       "      <td>Female</td>\n",
       "      <td>Yes</td>\n",
       "      <td>38</td>\n",
       "      <td>Yes</td>\n",
       "      <td>Engineer</td>\n",
       "      <td>NaN</td>\n",
       "      <td>Average</td>\n",
       "      <td>3.0</td>\n",
       "      <td>Train</td>\n",
       "    </tr>\n",
       "    <tr>\n",
       "      <th>2</th>\n",
       "      <td>466315</td>\n",
       "      <td>Female</td>\n",
       "      <td>Yes</td>\n",
       "      <td>67</td>\n",
       "      <td>Yes</td>\n",
       "      <td>Engineer</td>\n",
       "      <td>1.0</td>\n",
       "      <td>Low</td>\n",
       "      <td>1.0</td>\n",
       "      <td>Train</td>\n",
       "    </tr>\n",
       "    <tr>\n",
       "      <th>3</th>\n",
       "      <td>461735</td>\n",
       "      <td>Male</td>\n",
       "      <td>Yes</td>\n",
       "      <td>67</td>\n",
       "      <td>Yes</td>\n",
       "      <td>Lawyer</td>\n",
       "      <td>0.0</td>\n",
       "      <td>High</td>\n",
       "      <td>2.0</td>\n",
       "      <td>Train</td>\n",
       "    </tr>\n",
       "    <tr>\n",
       "      <th>4</th>\n",
       "      <td>462669</td>\n",
       "      <td>Female</td>\n",
       "      <td>Yes</td>\n",
       "      <td>40</td>\n",
       "      <td>Yes</td>\n",
       "      <td>Entertainment</td>\n",
       "      <td>NaN</td>\n",
       "      <td>High</td>\n",
       "      <td>6.0</td>\n",
       "      <td>Train</td>\n",
       "    </tr>\n",
       "  </tbody>\n",
       "</table>\n",
       "</div>"
      ],
      "text/plain": [
       "       ID  Gender Ever_Married  Age Graduated     Profession  Work_Experience  \\\n",
       "0  462809    Male           No   22        No     Healthcare              1.0   \n",
       "1  462643  Female          Yes   38       Yes       Engineer              NaN   \n",
       "2  466315  Female          Yes   67       Yes       Engineer              1.0   \n",
       "3  461735    Male          Yes   67       Yes         Lawyer              0.0   \n",
       "4  462669  Female          Yes   40       Yes  Entertainment              NaN   \n",
       "\n",
       "  Spending_Score  Family_Size    Set  \n",
       "0            Low          4.0  Train  \n",
       "1        Average          3.0  Train  \n",
       "2            Low          1.0  Train  \n",
       "3           High          2.0  Train  \n",
       "4           High          6.0  Train  "
      ]
     },
     "execution_count": 39,
     "metadata": {},
     "output_type": "execute_result"
    }
   ],
   "source": [
    "source = 'https://raw.githubusercontent.com/nparis87/MachineLearning/main/Complete.csv'\n",
    "\n",
    "data = pd.read_csv(source, sep=';')\n",
    "\n",
    "data.head()"
   ]
  },
  {
   "cell_type": "code",
   "execution_count": 40,
   "id": "5ac5b619-7782-47f0-b686-6b6c4377e246",
   "metadata": {},
   "outputs": [],
   "source": [
    "data.drop(['Set'], axis = 1, inplace = True)\n"
   ]
  },
  {
   "cell_type": "markdown",
   "id": "2f9f7fc8-b24a-4577-8a38-20c1b0236ac5",
   "metadata": {},
   "source": [
    "## Haciendo una conversión de variables ordinales manualmente"
   ]
  },
  {
   "cell_type": "code",
   "execution_count": 41,
   "id": "10456359-545c-4300-8411-5d878307149d",
   "metadata": {},
   "outputs": [
    {
     "name": "stdout",
     "output_type": "stream",
     "text": [
      "{'Low': 1, 'Average': 2, 'High': 3}\n"
     ]
    }
   ],
   "source": [
    "label = list(data['Spending_Score'].unique()) # se crea una lista con las etiquetas\n",
    "num = [1,2,3] # lista de valores numéricos para cada etiqueta\n",
    "mapping = {}  # diccionario de equivalencia entre listas\n",
    "\n",
    "for x,y in enumerate(label):\n",
    "    mapping[y] = num[x]\n",
    "\n",
    "print(mapping)"
   ]
  },
  {
   "cell_type": "code",
   "execution_count": 42,
   "id": "733455f9-4da7-4c47-891d-2a5d0be5e68c",
   "metadata": {},
   "outputs": [],
   "source": [
    "data.Spending_Score = data.Spending_Score.map(mapping)"
   ]
  },
  {
   "cell_type": "code",
   "execution_count": 43,
   "id": "9af20398-21d5-452b-8bd9-5720beffcb58",
   "metadata": {},
   "outputs": [
    {
     "data": {
      "text/html": [
       "<div>\n",
       "<style scoped>\n",
       "    .dataframe tbody tr th:only-of-type {\n",
       "        vertical-align: middle;\n",
       "    }\n",
       "\n",
       "    .dataframe tbody tr th {\n",
       "        vertical-align: top;\n",
       "    }\n",
       "\n",
       "    .dataframe thead th {\n",
       "        text-align: right;\n",
       "    }\n",
       "</style>\n",
       "<table border=\"1\" class=\"dataframe\">\n",
       "  <thead>\n",
       "    <tr style=\"text-align: right;\">\n",
       "      <th></th>\n",
       "      <th>ID</th>\n",
       "      <th>Gender</th>\n",
       "      <th>Ever_Married</th>\n",
       "      <th>Age</th>\n",
       "      <th>Graduated</th>\n",
       "      <th>Profession</th>\n",
       "      <th>Work_Experience</th>\n",
       "      <th>Spending_Score</th>\n",
       "      <th>Family_Size</th>\n",
       "    </tr>\n",
       "  </thead>\n",
       "  <tbody>\n",
       "    <tr>\n",
       "      <th>0</th>\n",
       "      <td>462809</td>\n",
       "      <td>Male</td>\n",
       "      <td>No</td>\n",
       "      <td>22</td>\n",
       "      <td>No</td>\n",
       "      <td>Healthcare</td>\n",
       "      <td>1.0</td>\n",
       "      <td>1</td>\n",
       "      <td>4.0</td>\n",
       "    </tr>\n",
       "    <tr>\n",
       "      <th>1</th>\n",
       "      <td>462643</td>\n",
       "      <td>Female</td>\n",
       "      <td>Yes</td>\n",
       "      <td>38</td>\n",
       "      <td>Yes</td>\n",
       "      <td>Engineer</td>\n",
       "      <td>NaN</td>\n",
       "      <td>2</td>\n",
       "      <td>3.0</td>\n",
       "    </tr>\n",
       "    <tr>\n",
       "      <th>2</th>\n",
       "      <td>466315</td>\n",
       "      <td>Female</td>\n",
       "      <td>Yes</td>\n",
       "      <td>67</td>\n",
       "      <td>Yes</td>\n",
       "      <td>Engineer</td>\n",
       "      <td>1.0</td>\n",
       "      <td>1</td>\n",
       "      <td>1.0</td>\n",
       "    </tr>\n",
       "    <tr>\n",
       "      <th>3</th>\n",
       "      <td>461735</td>\n",
       "      <td>Male</td>\n",
       "      <td>Yes</td>\n",
       "      <td>67</td>\n",
       "      <td>Yes</td>\n",
       "      <td>Lawyer</td>\n",
       "      <td>0.0</td>\n",
       "      <td>3</td>\n",
       "      <td>2.0</td>\n",
       "    </tr>\n",
       "    <tr>\n",
       "      <th>4</th>\n",
       "      <td>462669</td>\n",
       "      <td>Female</td>\n",
       "      <td>Yes</td>\n",
       "      <td>40</td>\n",
       "      <td>Yes</td>\n",
       "      <td>Entertainment</td>\n",
       "      <td>NaN</td>\n",
       "      <td>3</td>\n",
       "      <td>6.0</td>\n",
       "    </tr>\n",
       "  </tbody>\n",
       "</table>\n",
       "</div>"
      ],
      "text/plain": [
       "       ID  Gender Ever_Married  Age Graduated     Profession  Work_Experience  \\\n",
       "0  462809    Male           No   22        No     Healthcare              1.0   \n",
       "1  462643  Female          Yes   38       Yes       Engineer              NaN   \n",
       "2  466315  Female          Yes   67       Yes       Engineer              1.0   \n",
       "3  461735    Male          Yes   67       Yes         Lawyer              0.0   \n",
       "4  462669  Female          Yes   40       Yes  Entertainment              NaN   \n",
       "\n",
       "   Spending_Score  Family_Size  \n",
       "0               1          4.0  \n",
       "1               2          3.0  \n",
       "2               1          1.0  \n",
       "3               3          2.0  \n",
       "4               3          6.0  "
      ]
     },
     "execution_count": 43,
     "metadata": {},
     "output_type": "execute_result"
    }
   ],
   "source": [
    "data.head()"
   ]
  },
  {
   "cell_type": "code",
   "execution_count": 49,
   "id": "082b8af5-9dd2-41f4-baf8-4f4bf3d4532e",
   "metadata": {},
   "outputs": [],
   "source": [
    "X = data.drop(['Spending_Score', 'ID'], axis = 1)\n",
    "Y = data[['Spending_Score']]"
   ]
  },
  {
   "cell_type": "code",
   "execution_count": 50,
   "id": "7dcf35eb-61f6-43f8-ac0c-1c770622759c",
   "metadata": {},
   "outputs": [
    {
     "name": "stderr",
     "output_type": "stream",
     "text": [
      "C:\\ProgramData\\Anaconda3\\lib\\site-packages\\sklearn\\utils\\validation.py:63: DataConversionWarning: A column-vector y was passed when a 1d array was expected. Please change the shape of y to (n_samples, ), for example using ravel().\n",
      "  return f(*args, **kwargs)\n"
     ]
    }
   ],
   "source": [
    "Y = LabelEncoder().fit_transform(Y)\n",
    "\n",
    "tareas = [('imputer', SimpleImputer(strategy='most_frequent')), \n",
    "              ('encoder', OrdinalEncoder())]\n",
    "                            \n",
    "pipe = Pipeline(tareas)\n",
    "X2 = pipe.fit_transform(X)\n"
   ]
  },
  {
   "cell_type": "code",
   "execution_count": 52,
   "id": "5875c782-e9ec-4180-ba26-c6610d885935",
   "metadata": {},
   "outputs": [
    {
     "data": {
      "text/html": [
       "<div>\n",
       "<style scoped>\n",
       "    .dataframe tbody tr th:only-of-type {\n",
       "        vertical-align: middle;\n",
       "    }\n",
       "\n",
       "    .dataframe tbody tr th {\n",
       "        vertical-align: top;\n",
       "    }\n",
       "\n",
       "    .dataframe thead th {\n",
       "        text-align: right;\n",
       "    }\n",
       "</style>\n",
       "<table border=\"1\" class=\"dataframe\">\n",
       "  <thead>\n",
       "    <tr style=\"text-align: right;\">\n",
       "      <th></th>\n",
       "      <th>Gender</th>\n",
       "      <th>Ever_Married</th>\n",
       "      <th>Age</th>\n",
       "      <th>Graduated</th>\n",
       "      <th>Profession</th>\n",
       "      <th>Work_Experience</th>\n",
       "      <th>Family_Size</th>\n",
       "    </tr>\n",
       "  </thead>\n",
       "  <tbody>\n",
       "    <tr>\n",
       "      <th>0</th>\n",
       "      <td>1.0</td>\n",
       "      <td>0.0</td>\n",
       "      <td>4.0</td>\n",
       "      <td>0.0</td>\n",
       "      <td>5.0</td>\n",
       "      <td>1.0</td>\n",
       "      <td>3.0</td>\n",
       "    </tr>\n",
       "    <tr>\n",
       "      <th>1</th>\n",
       "      <td>0.0</td>\n",
       "      <td>1.0</td>\n",
       "      <td>18.0</td>\n",
       "      <td>1.0</td>\n",
       "      <td>2.0</td>\n",
       "      <td>1.0</td>\n",
       "      <td>2.0</td>\n",
       "    </tr>\n",
       "    <tr>\n",
       "      <th>2</th>\n",
       "      <td>0.0</td>\n",
       "      <td>1.0</td>\n",
       "      <td>44.0</td>\n",
       "      <td>1.0</td>\n",
       "      <td>2.0</td>\n",
       "      <td>1.0</td>\n",
       "      <td>0.0</td>\n",
       "    </tr>\n",
       "    <tr>\n",
       "      <th>3</th>\n",
       "      <td>1.0</td>\n",
       "      <td>1.0</td>\n",
       "      <td>44.0</td>\n",
       "      <td>1.0</td>\n",
       "      <td>7.0</td>\n",
       "      <td>0.0</td>\n",
       "      <td>1.0</td>\n",
       "    </tr>\n",
       "    <tr>\n",
       "      <th>4</th>\n",
       "      <td>0.0</td>\n",
       "      <td>1.0</td>\n",
       "      <td>20.0</td>\n",
       "      <td>1.0</td>\n",
       "      <td>3.0</td>\n",
       "      <td>1.0</td>\n",
       "      <td>5.0</td>\n",
       "    </tr>\n",
       "  </tbody>\n",
       "</table>\n",
       "</div>"
      ],
      "text/plain": [
       "   Gender  Ever_Married   Age  Graduated  Profession  Work_Experience  \\\n",
       "0     1.0           0.0   4.0        0.0         5.0              1.0   \n",
       "1     0.0           1.0  18.0        1.0         2.0              1.0   \n",
       "2     0.0           1.0  44.0        1.0         2.0              1.0   \n",
       "3     1.0           1.0  44.0        1.0         7.0              0.0   \n",
       "4     0.0           1.0  20.0        1.0         3.0              1.0   \n",
       "\n",
       "   Family_Size  \n",
       "0          3.0  \n",
       "1          2.0  \n",
       "2          0.0  \n",
       "3          1.0  \n",
       "4          5.0  "
      ]
     },
     "execution_count": 52,
     "metadata": {},
     "output_type": "execute_result"
    }
   ],
   "source": [
    "Xframe = pd.DataFrame(X2, columns=X.columns)\n",
    "Xframe.head()"
   ]
  },
  {
   "cell_type": "code",
   "execution_count": null,
   "id": "85e56c0a-133e-4c5e-b36d-360d909bf35e",
   "metadata": {},
   "outputs": [],
   "source": []
  },
  {
   "cell_type": "code",
   "execution_count": 53,
   "id": "7867766f-62c5-4493-aea6-251e21a70f0c",
   "metadata": {},
   "outputs": [],
   "source": [
    "x_train, x_test, y_train, y_test = train_test_split(X2,Y, random_state = 2)"
   ]
  },
  {
   "cell_type": "code",
   "execution_count": 60,
   "id": "45607ea1-e614-45a4-a994-fb9682b5edb7",
   "metadata": {},
   "outputs": [],
   "source": [
    "tree = DecisionTreeClassifier(random_state=0, max_depth=4).fit(x_train, y_train)"
   ]
  },
  {
   "cell_type": "code",
   "execution_count": 63,
   "id": "3cb3a5c7-723e-4548-9c7a-3f62cb92fb74",
   "metadata": {},
   "outputs": [
    {
     "data": {
      "text/plain": [
       "[Text(146.475, 195.696, 'Ever_Married <= 0.5\\ngini = 0.553\\nsamples = 8021\\nvalue = [4844, 1950, 1227]\\nclass = Low'),\n",
       " Text(125.55000000000001, 152.208, 'gini = 0.0\\nsamples = 3239\\nvalue = [3239, 0, 0]\\nclass = Low'),\n",
       " Text(167.4, 152.208, 'Family_Size <= 0.5\\ngini = 0.655\\nsamples = 4782\\nvalue = [1605, 1950, 1227]\\nclass = Average'),\n",
       " Text(83.7, 108.72, 'Age <= 15.5\\ngini = 0.089\\nsamples = 587\\nvalue = [560, 8, 19]\\nclass = Low'),\n",
       " Text(41.85, 65.232, 'Work_Experience <= 0.5\\ngini = 0.245\\nsamples = 28\\nvalue = [24, 0, 4]\\nclass = Low'),\n",
       " Text(20.925, 21.744, 'gini = 0.5\\nsamples = 4\\nvalue = [2, 0, 2]\\nclass = Low'),\n",
       " Text(62.775000000000006, 21.744, 'gini = 0.153\\nsamples = 24\\nvalue = [22, 0, 2]\\nclass = Low'),\n",
       " Text(125.55000000000001, 65.232, 'Profession <= 5.5\\ngini = 0.08\\nsamples = 559\\nvalue = [536, 8, 15]\\nclass = Low'),\n",
       " Text(104.625, 21.744, 'gini = 0.109\\nsamples = 367\\nvalue = [346, 8, 13]\\nclass = Low'),\n",
       " Text(146.475, 21.744, 'gini = 0.021\\nsamples = 192\\nvalue = [190, 0, 2]\\nclass = Low'),\n",
       " Text(251.10000000000002, 108.72, 'Profession <= 3.5\\ngini = 0.641\\nsamples = 4195\\nvalue = [1045, 1942, 1208]\\nclass = Average'),\n",
       " Text(209.25, 65.232, 'Family_Size <= 1.5\\ngini = 0.546\\nsamples = 2854\\nvalue = [711, 1741, 402]\\nclass = Average'),\n",
       " Text(188.32500000000002, 21.744, 'gini = 0.589\\nsamples = 1405\\nvalue = [457, 751, 197]\\nclass = Average'),\n",
       " Text(230.175, 21.744, 'gini = 0.482\\nsamples = 1449\\nvalue = [254, 990, 205]\\nclass = Average'),\n",
       " Text(292.95, 65.232, 'Age <= 16.5\\ngini = 0.554\\nsamples = 1341\\nvalue = [334, 201, 806]\\nclass = High'),\n",
       " Text(272.02500000000003, 21.744, 'gini = 0.645\\nsamples = 259\\nvalue = [114, 60, 85]\\nclass = Low'),\n",
       " Text(313.875, 21.744, 'gini = 0.498\\nsamples = 1082\\nvalue = [220, 141, 721]\\nclass = High')]"
      ]
     },
     "execution_count": 63,
     "metadata": {},
     "output_type": "execute_result"
    },
    {
     "data": {
      "image/png": "[encoded data removed]",
      "text/plain": [
       "<Figure size 432x288 with 1 Axes>"
      ]
     },
     "metadata": {
      "needs_background": "light"
     },
     "output_type": "display_data"
    }
   ],
   "source": [
    "plot_tree(tree, feature_names = X.columns, class_names=label, filled = True)"
   ]
  },
  {
   "cell_type": "markdown",
   "id": "e938bded-2f04-4c13-a8c8-c9cce95d040e",
   "metadata": {},
   "source": [
    "## Laboratorio 2\n",
    "\n",
    "Comparar el modelo de clasificación de árbol con knn.\n",
    "\n",
    "1. Graficar matriz de confusión de los dos modelos (15% de la nota)\n",
    "\n",
    "2. Mostrar reporte de métricas de los dos modelos   (15% de la nota)\n",
    "\n",
    "3. Analizar qué modelos tienen mejores resultados   (15% de la nota)\n",
    "\n",
    "4. Crear un pipeline que ejecute los dos modelos, después de haber realizado el tratamiento de datos  (15% de la nota)\n",
    "\n",
    "5. Investigue cómo funcionan los Árboles de Regresión y aplíquelo al ejercicio de los precios de los carros (40% de la nota)"
   ]
  }
 ],
 "metadata": {
  "kernelspec": {
   "display_name": "Python 3",
   "language": "python",
   "name": "python3"
  },
  "language_info": {
   "codemirror_mode": {
    "name": "ipython",
    "version": 3
   },
   "file_extension": ".py",
   "mimetype": "text/x-python",
   "name": "python",
   "nbconvert_exporter": "python",
   "pygments_lexer": "ipython3",
   "version": "3.8.8"
  }
 },
 "nbformat": 4,
 "nbformat_minor": 5
}
