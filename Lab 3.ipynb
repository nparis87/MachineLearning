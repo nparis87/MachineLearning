{
 "cells": [
  {
   "cell_type": "markdown",
   "id": "ff1604d2-e541-4890-bd19-3c8cd202b9de",
   "metadata": {},
   "source": [
    "## Laboratorio 3"
   ]
  },
  {
   "cell_type": "markdown",
   "id": "20b99d80-09eb-4a87-babe-558da11885b6",
   "metadata": {},
   "source": [
    "### A partir de la información brindada, el área de estrategia de inversiones desea desarrollar un modelo que dé señales de compra semanal que resulten en altos niveles de efectividad.\n",
    "\n",
    "1. Evalúe el modelo de clasificación que mejores señales de compra le da a los inversionistas en el ETF cuyo precio encuentra en la base de datos.\n",
    "    \n",
    "    a. Analice el comportamiento de las clasificaciones de al menos 3 de los modelos vistos en clase.\n",
    "\n",
    "    b. En la evaluación incluya la prueba de varios parámetros como cambiar el número de semanas de rezago en los retornos, probar el uso de precios en vez de retornos y el cambio de alguno de los         parámetros de los modelos. Ej Número de vecinos en KNN, cálculo de número de niveles en un arbol de clasificación, número de árboles en un random forest, entre otros. Entre todas las pruebas debe evaluar al menos 6 combinaciones de parámetros/modelos. Un ejemplo de combinaciones sería:\n",
    "\n",
    "        i.      KNN, con 5 vecinos, utilizando precios con 10 columnas de precios semanales\n",
    "        ii.      Reg Logística, utilizando retornos (estandarizados? Otra opción), con 5 columnas.\n",
    "\n",
    " \n",
    "\n",
    "\n",
    "\n",
    "2. Realice el ejercicio con un planteamiento de regresión. Utilice regresión lineal, árbol de regresión, o cualquier otro modelo que desee.\n",
    "\n",
    "    a. Ejecute el modelo de regresión\n",
    "\n",
    "    b. Analice y justifique la conveniencia de utilizar modelos de clasificación o de regresión basado en qué tan precisos son los resultados de cada uno de los enfoques a la luz del objetivo de negocio."
   ]
  },
  {
   "cell_type": "markdown",
   "id": "27ac834f-4b8b-4c34-8195-20d2a5b9f21a",
   "metadata": {},
   "source": [
    "### Entregue este laboratorio a través del Aula Virtual en formato PDF o HTML.\n",
    "Asegúrese de que el archivo entregado se pueda abrir bien. En el caso de archivos HTML haga la prueba de abrirlo en algún navegador."
   ]
  },
  {
   "cell_type": "code",
   "execution_count": 4,
   "id": "9067fed3-8860-4d18-86ee-950fb10c2045",
   "metadata": {
    "tags": []
   },
   "outputs": [],
   "source": [
    "#!pip install yfinance\n",
    "import yfinance as yf\n",
    "precios = yf.Ticker('XLF').history(period=\"10y\", interval='1wk')"
   ]
  },
  {
   "cell_type": "code",
   "execution_count": 78,
   "id": "158bf6a1-1087-435d-b128-65e1266c11a1",
   "metadata": {
    "collapsed": true,
    "jupyter": {
     "outputs_hidden": true
    },
    "tags": []
   },
   "outputs": [
    {
     "data": {
      "text/html": [
       "<div>\n",
       "<style scoped>\n",
       "    .dataframe tbody tr th:only-of-type {\n",
       "        vertical-align: middle;\n",
       "    }\n",
       "\n",
       "    .dataframe tbody tr th {\n",
       "        vertical-align: top;\n",
       "    }\n",
       "\n",
       "    .dataframe thead th {\n",
       "        text-align: right;\n",
       "    }\n",
       "</style>\n",
       "<table border=\"1\" class=\"dataframe\">\n",
       "  <thead>\n",
       "    <tr style=\"text-align: right;\">\n",
       "      <th></th>\n",
       "      <th>Cierre</th>\n",
       "    </tr>\n",
       "    <tr>\n",
       "      <th>Fecha</th>\n",
       "      <th></th>\n",
       "    </tr>\n",
       "  </thead>\n",
       "  <tbody>\n",
       "    <tr>\n",
       "      <th>11/20/2017</th>\n",
       "      <td>$67,88</td>\n",
       "    </tr>\n",
       "    <tr>\n",
       "      <th>11/27/2017</th>\n",
       "      <td>$69,68</td>\n",
       "    </tr>\n",
       "    <tr>\n",
       "      <th>12/4/2017</th>\n",
       "      <td>$69,28</td>\n",
       "    </tr>\n",
       "    <tr>\n",
       "      <th>12/11/2017</th>\n",
       "      <td>$68,72</td>\n",
       "    </tr>\n",
       "    <tr>\n",
       "      <th>12/18/2017</th>\n",
       "      <td>$71,97</td>\n",
       "    </tr>\n",
       "  </tbody>\n",
       "</table>\n",
       "</div>"
      ],
      "text/plain": [
       "              Cierre\n",
       "Fecha               \n",
       "11/20/2017   $67,88 \n",
       "11/27/2017   $69,68 \n",
       "12/4/2017    $69,28 \n",
       "12/11/2017   $68,72 \n",
       "12/18/2017   $71,97 "
      ]
     },
     "execution_count": 78,
     "metadata": {},
     "output_type": "execute_result"
    }
   ],
   "source": [
    "from sklearn.neighbors import KNeighborsClassifier\n",
    "from sklearn.tree import DecisionTreeClassifier\n",
    "from sklearn.ensemble import RandomForestClassifier\n",
    "import pandas as pd\n",
    "import numpy as np\n",
    "from sklearn.svm import SVC"
   ]
  }
 ],
 "metadata": {
  "kernelspec": {
   "display_name": "Python 3",
   "language": "python",
   "name": "python3"
  },
  "language_info": {
   "codemirror_mode": {
    "name": "ipython",
    "version": 3
   },
   "file_extension": ".py",
   "mimetype": "text/x-python",
   "name": "python",
   "nbconvert_exporter": "python",
   "pygments_lexer": "ipython3",
   "version": "3.8.8"
  }
 },
 "nbformat": 4,
 "nbformat_minor": 5
}
