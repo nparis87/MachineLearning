{
 "cells": [
  {
   "cell_type": "markdown",
   "id": "ff1604d2-e541-4890-bd19-3c8cd202b9de",
   "metadata": {},
   "source": [
    "## Laboratorio 1"
   ]
  },
  {
   "cell_type": "markdown",
   "id": "20b99d80-09eb-4a87-babe-558da11885b6",
   "metadata": {},
   "source": [
    "### A partir de la información brindada, el área de análisis de crédito de un banco desea determinar cuál es el modelo que minimiza el porcentaje de falsos positivos (clientes clasificados como de baja calificación crediticia).\n",
    "\n",
    "Calcule el % de falsos positivos para un modelo determinado Falsos Positivos / Número total de observaciones.\n",
    "\n",
    "    a. Desarrolle los modelos de regresión logística, Knn y Árbol de decisión con el set de datos entregado.\n",
    "    b. Determine cuál es el modelo que minimiza la tasa de falsos positivos\n",
    "    c. ¿Qué pasa con la tasa de falsos negativos con el modelo encontrado en el punto b? Describa los resultados\n",
    "    d. ¿Cuál es la implicación para el banco en términos de riesgos del resultado obtenido y el análisis realizado en el punto c? Analice"
   ]
  },
  {
   "cell_type": "markdown",
   "id": "27ac834f-4b8b-4c34-8195-20d2a5b9f21a",
   "metadata": {},
   "source": [
    "### Entregue este laboratorio a través del Aula Virtual en formato PDF o HTML.\n",
    "Asegúrese de que el archivo entregado se pueda abrir bien. En el caso de archivos HTML haga la prueba de abrirlo en algún navegador."
   ]
  },
  {
   "cell_type": "markdown",
   "id": "03fa7519-28ae-4960-82df-e5c4a6c80941",
   "metadata": {
    "tags": []
   },
   "source": [
    "## Datos"
   ]
  },
  {
   "cell_type": "code",
   "execution_count": null,
   "id": "5dd1b360-65e6-4aea-8fae-0028750ddd98",
   "metadata": {},
   "outputs": [],
   "source": [
    "source = 'https://raw.githubusercontent.com/nparis87/MachineLearning/main/CreditQuality.csv'\n",
    "\n",
    "data = pd.read_csv(source, sep=';')\n",
    "\n",
    "data.head()"
   ]
  }
 ],
 "metadata": {
  "kernelspec": {
   "display_name": "Python 3",
   "language": "python",
   "name": "python3"
  },
  "language_info": {
   "codemirror_mode": {
    "name": "ipython",
    "version": 3
   },
   "file_extension": ".py",
   "mimetype": "text/x-python",
   "name": "python",
   "nbconvert_exporter": "python",
   "pygments_lexer": "ipython3",
   "version": "3.8.8"
  }
 },
 "nbformat": 4,
 "nbformat_minor": 5
}
