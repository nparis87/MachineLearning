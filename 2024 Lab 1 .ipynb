{
 "cells": [
  {
   "cell_type": "markdown",
   "id": "ff1604d2-e541-4890-bd19-3c8cd202b9de",
   "metadata": {},
   "source": [
    "## Parcial 1"
   ]
  },
  {
   "cell_type": "markdown",
   "id": "d56c4afc-322d-488b-b597-f5897d7ff701",
   "metadata": {},
   "source": [
    "### 1. Name the three most important differences between AdaBoost and Random Forest."
   ]
  },
  {
   "cell_type": "markdown",
   "id": "20b99d80-09eb-4a87-babe-558da11885b6",
   "metadata": {},
   "source": [
    "### 2. Based on the information provided, the marketing area of an important online commerce company wants to determine which model best identifies the largest number of customers with a high propensity to spend, in order to offer them product financing alternatives.\n",
    "\n",
    "According to the need, find the model that best adapts to the required results.\n",
    "\n",
    "    a. Prepare data including standardization, removal of missing data (rows), and OneHot Encoding.\n",
    "    b. Based on the statement, determine which metric you should focus on when looking for the best models and justify.\n",
    "    c. Using GridSearch and testing at least 10 variations of each model, determine which model optimizes the desired result, including cross-validation cv= 5. Include at least 4 models seen in class.\n",
    "    d. Include a precision and recall analysis for the classes of interest (Low spending score). What do these results mean for the business?"
   ]
  },
  {
   "cell_type": "markdown",
   "id": "27ac834f-4b8b-4c34-8195-20d2a5b9f21a",
   "metadata": {},
   "source": [
    "### Send this laboratory in PDF or HTML format.\n",
    "Make sure the file can be opened correctly. In case of HTML format, try to open it on a web browser before sending."
   ]
  },
  {
   "cell_type": "markdown",
   "id": "03fa7519-28ae-4960-82df-e5c4a6c80941",
   "metadata": {
    "tags": []
   },
   "source": [
    "## Data"
   ]
  },
  {
   "cell_type": "code",
   "execution_count": null,
   "id": "5dd1b360-65e6-4aea-8fae-0028750ddd98",
   "metadata": {},
   "outputs": [],
   "source": [
    "source = 'https://raw.githubusercontent.com/nparis87/MachineLearning/main/CreditQuality.csv'\n",
    "\n",
    "data = pd.read_csv(source, sep=';')\n",
    "\n",
    "data.head()"
   ]
  }
 ],
 "metadata": {
  "kernelspec": {
   "display_name": "Python 3",
   "language": "python",
   "name": "python3"
  },
  "language_info": {
   "codemirror_mode": {
    "name": "ipython",
    "version": 3
   },
   "file_extension": ".py",
   "mimetype": "text/x-python",
   "name": "python",
   "nbconvert_exporter": "python",
   "pygments_lexer": "ipython3",
   "version": "3.8.8"
  }
 },
 "nbformat": 4,
 "nbformat_minor": 5
}
