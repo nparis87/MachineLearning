{
 "cells": [
  {
   "cell_type": "markdown",
   "id": "ff1604d2-e541-4890-bd19-3c8cd202b9de",
   "metadata": {},
   "source": [
    "## Parcial 1"
   ]
  },
  {
   "cell_type": "markdown",
   "id": "20b99d80-09eb-4a87-babe-558da11885b6",
   "metadata": {},
   "source": [
    "### A partir de la información brindada, el área de mercadeo de una importante firma de comercio en línea desea determinar cuál es el modelo que mejor identifica a la mayor cantidad de clientes con propensión al gasto baja, con el fin de ofrecerles alternativas de financiación de productos de consumo masivo.\n",
    "\n",
    "De acuerdo a la necesidad encuentre el modelo que mejor se adapta a los resultados requeridos.\n",
    "\n",
    "    a. Prepare los datos incluyendo estandarización, eliminación de datos (filas) faltantes y OneHot Encoding.\n",
    "    b. Con base en el enunciado determine en qué métrica se debe enfocar al buscar los mejores modelos y justifique.\n",
    "    c. Utilizando GridSearch y probando al menos 10 variaciones de cada modelo determine cuál es el modelo que optimiza el resultado buscado incluyendo una validación cruzada cv= 5. Incluya al menos 3 modelos vistos en clase.\n",
    "    d. Incluya un análisis de presición y recall para las clase de interés (Low spending score). ¿qué significan estos resultados para el negocio?"
   ]
  },
  {
   "cell_type": "markdown",
   "id": "27ac834f-4b8b-4c34-8195-20d2a5b9f21a",
   "metadata": {},
   "source": [
    "### Entregue este laboratorio a través del Aula Virtual en formato PDF o HTML.\n",
    "Asegúrese de que el archivo entregado se pueda abrir bien. En el caso de archivos HTML haga la prueba de abrirlo en algún navegador."
   ]
  },
  {
   "cell_type": "markdown",
   "id": "03fa7519-28ae-4960-82df-e5c4a6c80941",
   "metadata": {
    "tags": []
   },
   "source": [
    "## Datos"
   ]
  },
  {
   "cell_type": "code",
   "execution_count": null,
   "id": "5dd1b360-65e6-4aea-8fae-0028750ddd98",
   "metadata": {},
   "outputs": [],
   "source": [
    "source = 'https://raw.githubusercontent.com/nparis87/MachineLearning/main/CreditQuality.csv'\n",
    "\n",
    "data = pd.read_csv(source, sep=';')\n",
    "\n",
    "data.head()"
   ]
  }
 ],
 "metadata": {
  "kernelspec": {
   "display_name": "Python 3",
   "language": "python",
   "name": "python3"
  },
  "language_info": {
   "codemirror_mode": {
    "name": "ipython",
    "version": 3
   },
   "file_extension": ".py",
   "mimetype": "text/x-python",
   "name": "python",
   "nbconvert_exporter": "python",
   "pygments_lexer": "ipython3",
   "version": "3.8.8"
  }
 },
 "nbformat": 4,
 "nbformat_minor": 5
}
