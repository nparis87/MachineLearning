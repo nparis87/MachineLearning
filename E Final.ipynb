{
 "cells": [
  {
   "cell_type": "markdown",
   "id": "8ea31e2c-73ab-4c50-a465-28e7f1ec0ac4",
   "metadata": {},
   "source": [
    "# Examen Final Aprendizaje de Máquina"
   ]
  },
  {
   "cell_type": "markdown",
   "id": "076d5fe2-5122-4c2a-bfc9-2ed48060482a",
   "metadata": {},
   "source": [
    "## Punto 1 (25%): \n",
    "A partir del ejercicio realizado en el laboratorio 2 utilice el ETF XLI y cree un modelo de SVM que identifique o prediga movimientos del mercado mayores al 2% en una semana determinada. Utilice los primeros 7 años de datos como entrenamiento y los últimos 3 años como prueba. Objetivo: Obtener una precisión mayor a 0,6. Pruebe varios hiperparámetros del modelo SVM. "
   ]
  },
  {
   "cell_type": "markdown",
   "id": "6460745b-a17b-423a-afb9-4b761417b62d",
   "metadata": {},
   "source": [
    "## Punto 2 (50%): \n",
    "a. Con el siguiente set de datos cree una función que utilice GridSearch para evaluar tres modelos de clasificación con diferentes escalas de hiperparámetros. Realice el tratamiento de datos correspondiente.\n",
    "Consolide los archivos de Excel generados por el GridSearch tal como hicimos en clase y adjúntelos con esta entrega \n",
    "\n",
    "b. Utilizando la técnica de reducción de la dimensionalidad PCA, aplicar el mismo algoritmo utilizado en el literal a de este punto con 8 y con 4 componentes principales y compare las métricas de Accuracy y F1-score entre las tres vesriones.\n",
    "\n",
    "c. Analice los resultados. A juzgar por estos ¿la reducción de las columnas afecta de manera importante la capacidad de clasificación del modelo?\n",
    "\n",
    "Datos: 'https://raw.githubusercontent.com/nparis87/MachineLearning/main/CreditQuality.csv'"
   ]
  },
  {
   "cell_type": "markdown",
   "id": "7ce1bed5-349c-4355-ab09-3d8b5d2d9e33",
   "metadata": {},
   "source": [
    "## Punto 3 (45%): \n",
    "Realice una segmentación (clustering) con el modelo k-means con el siguiente set de datos y grafique la ganancia marginal de inercia (codo).\n",
    "\n",
    "Como puede observar, la información corresponde a canciones. Según el método del codo, cuántos grupos considera conveniente crear?\n",
    "\n",
    "Elija un número de grupos inferior a 10 y analice si la división que hace el modelo tiene una relación lógica con las canciones. Es decir si elige 6 grupos y el modelo hace la división, observe los datos de segmentación y analice si cada grupo tiene alguna lógica en cuanto a género musical o alguna otra característica. "
   ]
  },
  {
   "cell_type": "code",
   "execution_count": 24,
   "id": "e51a474b-410c-471c-abd7-d855f3712d01",
   "metadata": {},
   "outputs": [],
   "source": [
    "path = 'https://raw.githubusercontent.com/nparis87/MachineLearning/main/top50music.csv'"
   ]
  },
  {
   "cell_type": "markdown",
   "id": "df231bdf-0a50-4124-8061-4b6f16551076",
   "metadata": {},
   "source": [
    "### Entregue este laboratorio a través del Aula Virtual en formato PDF o HTML.\n",
    "Asegúrese de que el archivo entregado se pueda abrir bien. En el caso de archivos HTML haga la prueba de abrirlo en algún navegador."
   ]
  },
  {
   "cell_type": "markdown",
   "id": "e0820527-567d-4d02-8c31-d494dcd8cb30",
   "metadata": {},
   "source": [
    "## Fíjese que la suma de los porcentajes es mayor a 100%, lo que significa que se le está dando un bono."
   ]
  },
  {
   "cell_type": "markdown",
   "id": "dcbcf1de-35f0-4176-a6ef-8f62ab867ed3",
   "metadata": {},
   "source": [
    "## MUCHOS ÉXITOS"
   ]
  }
 ],
 "metadata": {
  "kernelspec": {
   "display_name": "Python 3",
   "language": "python",
   "name": "python3"
  },
  "language_info": {
   "codemirror_mode": {
    "name": "ipython",
    "version": 3
   },
   "file_extension": ".py",
   "mimetype": "text/x-python",
   "name": "python",
   "nbconvert_exporter": "python",
   "pygments_lexer": "ipython3",
   "version": "3.8.8"
  }
 },
 "nbformat": 4,
 "nbformat_minor": 5
}
