{
 "cells": [
  {
   "cell_type": "markdown",
   "id": "ff1604d2-e541-4890-bd19-3c8cd202b9de",
   "metadata": {},
   "source": [
    "## Parcial 1 - Práctica"
   ]
  },
  {
   "cell_type": "markdown",
   "id": "20b99d80-09eb-4a87-babe-558da11885b6",
   "metadata": {},
   "source": [
    "### A partir del ejercicio realizado en el laboratorio 2 entrene los dos mejores modelos de clasificación obtenidos en el laboratorio 2 para el instrumento 'SPY' (En el laboratorio utilizó XLK). Utilice los dos mejores modelos con los mejores parámetros e hiperparámetros (Ej Random Forest con 60 árboles, 51 columnas, umbral de 1%).\n",
    "\n",
    "### La diferencia ahora es que además de retornos va a incluir en los datos el volúmen de negociación para cada periodo de tiempo. Lo anterior significa que se va a duplicar el número de parámetros o variables de entrada.\n",
    "\n",
    "1. Después de entrenar y testear los modelos analice y expliue si el incluir el volumen de negociación incrementa el poder de clasificación de el/los modelos. Compare los resultados con los obtenidos en el Laboratorio. (Es opcional volver a replicar el modelo del Laboratorio 2, pero no tiene que hacerlo, P ej puede insertar imágenes del reporte de resultados)\n",
    "    \n",
    "2. Utilice como segundo conjunto de pruebas alternativo el ETF 'XLY' y analice los resultados.\n",
    "\n",
    "#### Bono (+15% de la nota de todo el parcial): Explique la diferencia entre los dos instrumentos SPY y XLY y trate de explicar desde la lógica por qué los modelos del punto 1 probados con el punto 2 funciona o no funciona (Dependiendo de los resultados)"
   ]
  },
  {
   "cell_type": "markdown",
   "id": "27ac834f-4b8b-4c34-8195-20d2a5b9f21a",
   "metadata": {},
   "source": [
    "### Entregue este laboratorio a través del Aula Virtual en formato PDF o HTML.\n",
    "Asegúrese de que el archivo entregado se pueda abrir bien. En el caso de archivos HTML haga la prueba de abrirlo en algún navegador."
   ]
  }
 ],
 "metadata": {
  "kernelspec": {
   "display_name": "Python 3",
   "language": "python",
   "name": "python3"
  },
  "language_info": {
   "codemirror_mode": {
    "name": "ipython",
    "version": 3
   },
   "file_extension": ".py",
   "mimetype": "text/x-python",
   "name": "python",
   "nbconvert_exporter": "python",
   "pygments_lexer": "ipython3",
   "version": "3.8.8"
  }
 },
 "nbformat": 4,
 "nbformat_minor": 5
}
