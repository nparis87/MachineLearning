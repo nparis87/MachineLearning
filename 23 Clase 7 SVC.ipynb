{
 "cells": [
  {
   "cell_type": "markdown",
   "id": "899e94d9-f5e6-412b-901d-8467180d1574",
   "metadata": {
    "tags": []
   },
   "source": []
  },
  {
   "cell_type": "code",
   "execution_count": 15,
   "id": "5435c837",
   "metadata": {
    "tags": []
   },
   "outputs": [],
   "source": [
    "import pandas as pd\n",
    "import numpy as np\n",
    "import matplotlib.pyplot as plt\n",
    "from sklearn.linear_model import LogisticRegression\n",
    "from sklearn.svm import SVC\n",
    "from sklearn.model_selection import train_test_split\n",
    "from sklearn.neighbors import KNeighborsClassifier\n",
    "from sklearn.tree import DecisionTreeClassifier\n",
    "from sklearn.impute import SimpleImputer, KNNImputer\n",
    "from sklearn.preprocessing import OneHotEncoder, OrdinalEncoder, MinMaxScaler, MaxAbsScaler, LabelEncoder, StandardScaler\n",
    "from sklearn.metrics import classification_report, plot_confusion_matrix, roc_curve, auc\n",
    "from sklearn.svm import SVC\n"
   ]
  },
  {
   "cell_type": "code",
   "execution_count": 9,
   "id": "4d71f48e-16d5-49ee-b880-25c921ce23a4",
   "metadata": {},
   "outputs": [],
   "source": [
    "data = pd.read_csv('https://raw.githubusercontent.com/nparis87/MachineLearning/main/CreditQuality.csv', sep=';')\n",
    "data.columns\n",
    "X = data.drop(['Column21'], axis = 1)\n",
    "Y = data['Column21']\n",
    "x_train, x_test, y_train, y_test = train_test_split(X,Y, random_state = 2)"
   ]
  },
  {
   "cell_type": "markdown",
   "id": "445045cb-931c-48e5-9449-eaca1097bda9",
   "metadata": {},
   "source": [
    "## Support Vector Classifier"
   ]
  },
  {
   "cell_type": "code",
   "execution_count": 10,
   "id": "8cd17d44-8da7-454f-a8ba-4ef9a68b0547",
   "metadata": {},
   "outputs": [],
   "source": [
    "model_svc = SVC(kernel='rbf', random_state=4)\n",
    "model_svc.fit(x_train, y_train)\n",
    "\n",
    "y_pred_svm = model_svc.decision_function(x_test)"
   ]
  },
  {
   "cell_type": "markdown",
   "id": "3af0ab45-dfe8-45bc-8d42-281eeb0c80b2",
   "metadata": {},
   "source": [
    "## Clasificación Logística"
   ]
  },
  {
   "cell_type": "code",
   "execution_count": null,
   "id": "87664e4a-7ee4-4c8d-9a58-f48a5f6f91b7",
   "metadata": {},
   "outputs": [],
   "source": [
    "#????????"
   ]
  },
  {
   "cell_type": "code",
   "execution_count": 13,
   "id": "46cef479-f48c-4e4a-8ed3-7384c97d08b6",
   "metadata": {},
   "outputs": [],
   "source": [
    "svm_fpr, svm_tpr, umbral = roc_curve(y_test, y_pred_svm)\n",
    "\n",
    "auc_svm = auc(svm_fpr, svm_tpr)"
   ]
  },
  {
   "cell_type": "code",
   "execution_count": 20,
   "id": "65f74be9-d60e-4667-aecb-8dd16db7f36e",
   "metadata": {},
   "outputs": [
    {
     "data": {
      "text/plain": [
       "Text(0, 0.5, 'True Positive Rate - Recall')"
      ]
     },
     "execution_count": 20,
     "metadata": {},
     "output_type": "execute_result"
    },
    {
     "data": {
      "image/png": "[encoded data removed]",
      "text/plain": [
       "<Figure size 400x400 with 1 Axes>"
      ]
     },
     "metadata": {
      "needs_background": "light"
     },
     "output_type": "display_data"
    }
   ],
   "source": [
    "plt.figure(figsize=(5,5), dpi=80)\n",
    "\n",
    "plt.plot(svm_fpr, svm_tpr, linestyle='-', label='SVM (auc = %0.3f)' % auc_svm)\n",
    "plt.xlabel('False Positive Rate')\n",
    "plt.ylabel('True Positive Rate - Recall')\n"
   ]
  },
  {
   "cell_type": "code",
   "execution_count": null,
   "id": "41739aa1-bc76-4c41-ad6f-0f77379e8423",
   "metadata": {},
   "outputs": [],
   "source": []
  }
 ],
 "metadata": {
  "kernelspec": {
   "display_name": "Python 3",
   "language": "python",
   "name": "python3"
  },
  "language_info": {
   "codemirror_mode": {
    "name": "ipython",
    "version": 3
   },
   "file_extension": ".py",
   "mimetype": "text/x-python",
   "name": "python",
   "nbconvert_exporter": "python",
   "pygments_lexer": "ipython3",
   "version": "3.8.8"
  }
 },
 "nbformat": 4,
 "nbformat_minor": 5
}
